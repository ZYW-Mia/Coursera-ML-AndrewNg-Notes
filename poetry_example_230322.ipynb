{
  "nbformat": 4,
  "nbformat_minor": 0,
  "metadata": {
    "colab": {
      "name": "poetry_example_230322.ipynb",
      "private_outputs": true,
      "provenance": [],
      "collapsed_sections": [],
      "include_colab_link": true
    },
    "kernelspec": {
      "name": "python3",
      "display_name": "Python 3"
    },
    "accelerator": "GPU"
  },
  "cells": [
    {
      "cell_type": "markdown",
      "metadata": {
        "id": "view-in-github",
        "colab_type": "text"
      },
      "source": [
        "<a href=\"https://colab.research.google.com/github/ZYW-Mia/Coursera-ML-AndrewNg-Notes/blob/master/poetry_example_230322.ipynb\" target=\"_parent\"><img src=\"https://colab.research.google.com/assets/colab-badge.svg\" alt=\"Open In Colab\"/></a>"
      ]
    },
    {
      "cell_type": "markdown",
      "metadata": {
        "id": "mCTcgccDjJJQ"
      },
      "source": [
        "# Poetry generation\n",
        "\n",
        "tim.vandecruys@kuleuven.be\n",
        "\n",
        "Latest update: 23 March 2022\n",
        "\n",
        "This notebook provides a minimal working example of the poetry system presented in the paper 'Automatic Poetry Generation from Prosaic Text'. More info: [https://github.com/timvdc/poetry](https://github.com/timvdc/poetry).\n",
        "\n",
        "Clone the repository:"
      ]
    },
    {
      "cell_type": "code",
      "metadata": {
        "id": "BtqsSG4JA0YW"
      },
      "source": [
        "!git clone https://github.com/timvdc/poetry.git"
      ],
      "execution_count": null,
      "outputs": []
    },
    {
      "cell_type": "markdown",
      "metadata": {
        "id": "TN0SF616jL-U"
      },
      "source": [
        "Install opennmt (pip will show some dependency conflicts but you can ignore these):"
      ]
    },
    {
      "cell_type": "code",
      "metadata": {
        "id": "F1iiQr7AfuAR"
      },
      "source": [
        "!pip install opennmt-py==1.1.1"
      ],
      "execution_count": null,
      "outputs": []
    },
    {
      "cell_type": "markdown",
      "metadata": {
        "id": "-TCcQxXyjP-I"
      },
      "source": [
        "Install kenlm from github:"
      ]
    },
    {
      "cell_type": "code",
      "metadata": {
        "id": "2cLVwxFvfgDn"
      },
      "source": [
        "!pip install https://github.com/kpu/kenlm/archive/master.zip"
      ],
      "execution_count": null,
      "outputs": []
    },
    {
      "cell_type": "markdown",
      "metadata": {
        "id": "1CwBmnSvjGA4"
      },
      "source": [
        "Download model data:"
      ]
    },
    {
      "cell_type": "code",
      "metadata": {
        "id": "RR2t0LXdgAHF"
      },
      "source": [
        "!wget http://ccl.kuleuven.be/poetry/sylvia.tar.gz"
      ],
      "execution_count": null,
      "outputs": []
    },
    {
      "cell_type": "markdown",
      "metadata": {
        "id": "GUyyxKiTjTMa"
      },
      "source": [
        "Unpack model data to data directory:"
      ]
    },
    {
      "cell_type": "code",
      "metadata": {
        "id": "diL2DrAMgE7K"
      },
      "source": [
        "!tar xzvf sylvia.tar.gz -C poetry/data"
      ],
      "execution_count": null,
      "outputs": []
    },
    {
      "cell_type": "markdown",
      "metadata": {
        "id": "WB_APlSVjZlK"
      },
      "source": [
        "Change to module directory:"
      ]
    },
    {
      "cell_type": "code",
      "metadata": {
        "id": "A2CU8vqkhE2h"
      },
      "source": [
        "cd poetry"
      ],
      "execution_count": null,
      "outputs": []
    },
    {
      "cell_type": "markdown",
      "source": [
        "Switch to branch `development`"
      ],
      "metadata": {
        "id": "JKzgSrq5uDVt"
      }
    },
    {
      "cell_type": "code",
      "source": [
        "!git checkout development"
      ],
      "metadata": {
        "id": "W3BykNBquGQ6"
      },
      "execution_count": null,
      "outputs": []
    },
    {
      "cell_type": "markdown",
      "metadata": {
        "id": "arL19Q8KhTsM"
      },
      "source": [
        "Import module and load poem data files; this will take a while to load"
      ]
    },
    {
      "cell_type": "code",
      "metadata": {
        "id": "ZJ6uaU74hLIs"
      },
      "source": [
        "import sylvia\n",
        "p = sylvia.Poem()"
      ],
      "execution_count": null,
      "outputs": []
    },
    {
      "cell_type": "markdown",
      "metadata": {
        "id": "KhgQu-HWjmKx"
      },
      "source": [
        "Write poem with topical dimension 13"
      ]
    },
    {
      "cell_type": "code",
      "metadata": {
        "id": "Wzc3akV2hRMc"
      },
      "source": [
        "p.write(nmfDim=13)"
      ],
      "execution_count": null,
      "outputs": []
    }
  ]
}